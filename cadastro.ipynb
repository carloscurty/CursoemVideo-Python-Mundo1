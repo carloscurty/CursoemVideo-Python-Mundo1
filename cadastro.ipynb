{
 "cells": [
  {
   "cell_type": "code",
   "execution_count": null,
   "id": "2dc31d12",
   "metadata": {},
   "outputs": [],
   "source": [
    "# Cadastro simples / gravação em arquivo texto, leitura e alteração de dados"
   ]
  },
  {
   "cell_type": "code",
   "execution_count": 27,
   "id": "e1cf166f",
   "metadata": {},
   "outputs": [],
   "source": [
    "def inclui():\n",
    "    nome = input('Nome: ')\n",
    "    arq = open('cadastro.txt', 'a')\n",
    "    arq.seek(2)\n",
    "    arq.write(nome+'\\n')\n",
    "    arq.close()"
   ]
  },
  {
   "cell_type": "code",
   "execution_count": 29,
   "id": "1cba45f0",
   "metadata": {},
   "outputs": [
    {
     "name": "stdout",
     "output_type": "stream",
     "text": [
      "Nome: Leon the cat\n"
     ]
    }
   ],
   "source": [
    "inclui()"
   ]
  },
  {
   "cell_type": "code",
   "execution_count": 31,
   "id": "7a250cee",
   "metadata": {},
   "outputs": [
    {
     "name": "stdout",
     "output_type": "stream",
     "text": [
      "Encontrados 5 nomes cadastrados:\n",
      "\n",
      "1: Carlos Curty\n",
      "\n",
      "2: Indira Curty\n",
      "\n",
      "3: Victor Curty\n",
      "\n",
      "4: Wilma\n",
      "\n",
      "5: Leon the cat\n",
      "\n"
     ]
    }
   ],
   "source": [
    "arq = open('cadastro.txt', 'r')\n",
    "linha = list(arq)\n",
    "t = len(linha)\n",
    "print('Encontrados {} nomes cadastrados:\\n'.format(t))\n",
    "for x in range(0, len(linha)):\n",
    "    print('{}: {}'.format(x+1, linha[x]))\n",
    "arq.close()"
   ]
  },
  {
   "cell_type": "code",
   "execution_count": 1,
   "id": "c7ca7b29",
   "metadata": {},
   "outputs": [
    {
     "ename": "NameError",
     "evalue": "name 'x' is not defined",
     "output_type": "error",
     "traceback": [
      "\u001b[1;31m---------------------------------------------------------------------------\u001b[0m",
      "\u001b[1;31mNameError\u001b[0m                                 Traceback (most recent call last)",
      "\u001b[1;32m~\\AppData\\Local\\Temp/ipykernel_4760/1353120783.py\u001b[0m in \u001b[0;36m<module>\u001b[1;34m\u001b[0m\n\u001b[1;32m----> 1\u001b[1;33m \u001b[0mprint\u001b[0m\u001b[1;33m(\u001b[0m\u001b[0mx\u001b[0m\u001b[1;33m)\u001b[0m\u001b[1;33m\u001b[0m\u001b[1;33m\u001b[0m\u001b[0m\n\u001b[0m",
      "\u001b[1;31mNameError\u001b[0m: name 'x' is not defined"
     ]
    }
   ],
   "source": [
    "print(x)"
   ]
  },
  {
   "cell_type": "code",
   "execution_count": null,
   "id": "00f2b326",
   "metadata": {},
   "outputs": [],
   "source": [
    "# Abre o arquivo para gravação e grava a linha 1\n",
    "arq = open('texto.txt', 'a')\n",
    "for x in lin1:\n",
    "        arq.write(x)\n",
    "arq.write('\\n')\n",
    "arq.close()        "
   ]
  },
  {
   "cell_type": "code",
   "execution_count": null,
   "id": "21f3f631",
   "metadata": {},
   "outputs": [],
   "source": [
    "# Abre o arquivo para gravação e grava a linha 2\n",
    "arq = open('texto.txt', 'a')\n",
    "lin2 = 'Segunda linha do arquivo'\n",
    "arq.seek(0, 1)\n",
    "for x in lin2:\n",
    "        arq.write(x)\n",
    "arq.write('\\n')\n",
    "arq.close()"
   ]
  },
  {
   "cell_type": "code",
   "execution_count": null,
   "id": "34be84d6",
   "metadata": {},
   "outputs": [],
   "source": [
    "# Abre o arquivo para 'APPEND' e grava a linha extra\n",
    "arq = open('texto.txt', 'a')\n",
    "linex = 'Linha extra'\n",
    "arq.seek(2)\n",
    "for x in linex:\n",
    "        arq.write(x)\n",
    "arq.write('\\n')\n",
    "arq.close()"
   ]
  }
 ],
 "metadata": {
  "kernelspec": {
   "display_name": "Python 3 (ipykernel)",
   "language": "python",
   "name": "python3"
  },
  "language_info": {
   "codemirror_mode": {
    "name": "ipython",
    "version": 3
   },
   "file_extension": ".py",
   "mimetype": "text/x-python",
   "name": "python",
   "nbconvert_exporter": "python",
   "pygments_lexer": "ipython3",
   "version": "3.9.7"
  }
 },
 "nbformat": 4,
 "nbformat_minor": 5
}
