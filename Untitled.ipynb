{
 "cells": [
  {
   "cell_type": "code",
   "execution_count": null,
   "id": "7b4a8ce5",
   "metadata": {},
   "outputs": [],
   "source": [
    "expr = input('Digite algo: ')\n",
    "msg = ''\n",
    "exp = list(expr)\n",
    "print('\\nA expressão possui {} caracteres: {}'.format(len(expr), exp))\n",
    "num = 0\n",
    "spc = 0\n",
    "m = 0\n",
    "M = 0\n",
    "for x in exp:\n",
    "    if x.isnumeric():\n",
    "        num = num + 1\n",
    "    if x.isspace():\n",
    "        spc = spc + 1\n",
    "    if x.islower():\n",
    "        m = m + 1\n",
    "    if x.isupper():\n",
    "        M = M + 1\n",
    "msg = ''\n",
    "if num > 0:\n",
    "    msg = msg + str(num) + ' número(s), '\n",
    "if spc > 0:\n",
    "    msg = msg + str(spc) + ' espaço(s), '\n",
    "if m > 0:\n",
    "    msg = msg +str(m) + ' letra(s) minúscula(s), '\n",
    "if M > 0:\n",
    "    msg = msg + str(M) + ' letra(s) maiúscula(s), '\n",
    "\n",
    "cesp = len(expr) - (num + spc + m + M)\n",
    "\n",
    "if cesp > 0:\n",
    "    msg = msg + str(cesp) + ' caracter(es) especial(is)'\n",
    "\n",
    "print('\\nEntre eles: ', msg)\n",
    "\n"
   ]
  },
  {
   "cell_type": "code",
   "execution_count": null,
   "id": "5506b05b",
   "metadata": {},
   "outputs": [],
   "source": []
  }
 ],
 "metadata": {
  "kernelspec": {
   "display_name": "Python 3 (ipykernel)",
   "language": "python",
   "name": "python3"
  },
  "language_info": {
   "codemirror_mode": {
    "name": "ipython",
    "version": 3
   },
   "file_extension": ".py",
   "mimetype": "text/x-python",
   "name": "python",
   "nbconvert_exporter": "python",
   "pygments_lexer": "ipython3",
   "version": "3.9.7"
  }
 },
 "nbformat": 4,
 "nbformat_minor": 5
}
