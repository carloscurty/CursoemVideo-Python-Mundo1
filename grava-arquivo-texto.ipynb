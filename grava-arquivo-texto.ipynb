{
 "cells": [
  {
   "cell_type": "code",
   "execution_count": 27,
   "id": "9022a9b1",
   "metadata": {},
   "outputs": [],
   "source": [
    "# Define as variáveis de linha\n",
    "lin1 = 'Primeira linha do arquivo'\n",
    "lin2 = 'Segunda linha do arquivo'\n",
    "linex = 'Linha Extra'"
   ]
  },
  {
   "cell_type": "code",
   "execution_count": 3,
   "id": "e1cf166f",
   "metadata": {},
   "outputs": [
    {
     "name": "stdout",
     "output_type": "stream",
     "text": [
      "Nome: Carlos\n",
      "Idade: 55\n"
     ]
    }
   ],
   "source": [
    "nome = input('Nome: ')\n",
    "idade = input('Idade: ')"
   ]
  },
  {
   "cell_type": "code",
   "execution_count": 25,
   "id": "71a0bb22",
   "metadata": {},
   "outputs": [
    {
     "name": "stdout",
     "output_type": "stream",
     "text": [
      "<class 'str'>\n",
      "<class 'str'>\n"
     ]
    }
   ],
   "source": [
    "print(type(nome))\n",
    "print(type(idade))"
   ]
  },
  {
   "cell_type": "code",
   "execution_count": 44,
   "id": "1cba45f0",
   "metadata": {},
   "outputs": [],
   "source": [
    "arq = open('texto.txt', 'a')\n",
    "arq.write(nome)\n",
    "arq.write(\" \")\n",
    "arq.write(idade)\n",
    "arq.write(\" \")\n",
    "arq.close()"
   ]
  },
  {
   "cell_type": "code",
   "execution_count": 65,
   "id": "7a250cee",
   "metadata": {},
   "outputs": [
    {
     "ename": "AttributeError",
     "evalue": "'list' object has no attribute 'split'",
     "output_type": "error",
     "traceback": [
      "\u001b[1;31m---------------------------------------------------------------------------\u001b[0m",
      "\u001b[1;31mAttributeError\u001b[0m                            Traceback (most recent call last)",
      "\u001b[1;32m~\\AppData\\Local\\Temp/ipykernel_10196/3851266392.py\u001b[0m in \u001b[0;36m<module>\u001b[1;34m\u001b[0m\n\u001b[0;32m      2\u001b[0m \u001b[0ma\u001b[0m \u001b[1;33m=\u001b[0m \u001b[0mlist\u001b[0m\u001b[1;33m(\u001b[0m\u001b[0marq\u001b[0m\u001b[1;33m)\u001b[0m\u001b[1;33m\u001b[0m\u001b[1;33m\u001b[0m\u001b[0m\n\u001b[0;32m      3\u001b[0m \u001b[1;31m#print(a)\u001b[0m\u001b[1;33m\u001b[0m\u001b[1;33m\u001b[0m\u001b[0m\n\u001b[1;32m----> 4\u001b[1;33m \u001b[0ma\u001b[0m \u001b[1;33m=\u001b[0m \u001b[0ma\u001b[0m\u001b[1;33m.\u001b[0m\u001b[0msplit\u001b[0m\u001b[1;33m(\u001b[0m\u001b[1;34m' '\u001b[0m\u001b[1;33m)\u001b[0m\u001b[1;33m\u001b[0m\u001b[1;33m\u001b[0m\u001b[0m\n\u001b[0m\u001b[0;32m      5\u001b[0m \u001b[0my\u001b[0m \u001b[1;33m=\u001b[0m \u001b[1;34m''\u001b[0m\u001b[1;33m\u001b[0m\u001b[1;33m\u001b[0m\u001b[0m\n\u001b[0;32m      6\u001b[0m \u001b[0mcampo\u001b[0m \u001b[1;33m=\u001b[0m \u001b[1;34m'Nome'\u001b[0m\u001b[1;33m\u001b[0m\u001b[1;33m\u001b[0m\u001b[0m\n",
      "\u001b[1;31mAttributeError\u001b[0m: 'list' object has no attribute 'split'"
     ]
    }
   ],
   "source": [
    "arq = open('texto.txt', 'r')\n",
    "a = list(arq)\n",
    "#print(a)\n",
    "#a = a.split(' ')\n",
    "y = ''\n",
    "campo = 'Nome'\n",
    "for x in a:\n",
    "    print('{}: {}\\n'.format(campo, x))\n",
    "    if campo == 'Nome':\n",
    "        campo = 'Idade'\n",
    "    else:\n",
    "        campo = 'Nome'\n",
    "#print('\\n', x, y, a)\n",
    "arq.close()\n",
    "print('Leitura: ', y.split(' '))\n"
   ]
  },
  {
   "cell_type": "code",
   "execution_count": 39,
   "id": "c7ca7b29",
   "metadata": {},
   "outputs": [
    {
     "ename": "AttributeError",
     "evalue": "'_io.TextIOWrapper' object has no attribute 'split'",
     "output_type": "error",
     "traceback": [
      "\u001b[1;31m---------------------------------------------------------------------------\u001b[0m",
      "\u001b[1;31mAttributeError\u001b[0m                            Traceback (most recent call last)",
      "\u001b[1;32m~\\AppData\\Local\\Temp/ipykernel_10196/743158489.py\u001b[0m in \u001b[0;36m<module>\u001b[1;34m\u001b[0m\n\u001b[1;32m----> 1\u001b[1;33m \u001b[0mprint\u001b[0m\u001b[1;33m(\u001b[0m\u001b[0marq\u001b[0m\u001b[1;33m.\u001b[0m\u001b[0msplit\u001b[0m\u001b[1;33m(\u001b[0m\u001b[1;34m' '\u001b[0m\u001b[1;33m)\u001b[0m\u001b[1;33m)\u001b[0m\u001b[1;33m\u001b[0m\u001b[1;33m\u001b[0m\u001b[0m\n\u001b[0m",
      "\u001b[1;31mAttributeError\u001b[0m: '_io.TextIOWrapper' object has no attribute 'split'"
     ]
    }
   ],
   "source": [
    "\n",
    "print(arq.split(' '))"
   ]
  },
  {
   "cell_type": "code",
   "execution_count": 28,
   "id": "00f2b326",
   "metadata": {},
   "outputs": [],
   "source": [
    "# Abre o arquivo para gravação e grava a linha 1\n",
    "arq = open('texto.txt', 'a')\n",
    "for x in lin1:\n",
    "        arq.write(x)\n",
    "arq.write('\\n')\n",
    "arq.close()        "
   ]
  },
  {
   "cell_type": "code",
   "execution_count": 29,
   "id": "21f3f631",
   "metadata": {},
   "outputs": [],
   "source": [
    "# Abre o arquivo para gravação e grava a linha 2\n",
    "arq = open('texto.txt', 'a')\n",
    "lin2 = 'Segunda linha do arquivo'\n",
    "arq.seek(0, 1)\n",
    "for x in lin2:\n",
    "        arq.write(x)\n",
    "arq.write('\\n')\n",
    "arq.close()"
   ]
  },
  {
   "cell_type": "code",
   "execution_count": 30,
   "id": "34be84d6",
   "metadata": {},
   "outputs": [],
   "source": [
    "# Abre o arquivo para 'APPEND' e grava a linha extra\n",
    "arq = open('texto.txt', 'a')\n",
    "linex = 'Linha extra'\n",
    "arq.seek(2)\n",
    "for x in linex:\n",
    "        arq.write(x)\n",
    "arq.write('\\n')\n",
    "arq.close()"
   ]
  }
 ],
 "metadata": {
  "kernelspec": {
   "display_name": "Python 3 (ipykernel)",
   "language": "python",
   "name": "python3"
  },
  "language_info": {
   "codemirror_mode": {
    "name": "ipython",
    "version": 3
   },
   "file_extension": ".py",
   "mimetype": "text/x-python",
   "name": "python",
   "nbconvert_exporter": "python",
   "pygments_lexer": "ipython3",
   "version": "3.9.7"
  }
 },
 "nbformat": 4,
 "nbformat_minor": 5
}
