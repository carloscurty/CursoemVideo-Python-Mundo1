{
 "cells": [
  {
   "cell_type": "code",
   "execution_count": 27,
   "id": "9022a9b1",
   "metadata": {},
   "outputs": [],
   "source": [
    "# Define as variáveis de linha\n",
    "lin1 = 'Primeira linha do arquivo'\n",
    "lin2 = 'Segunda linha do arquivo'\n",
    "linex = 'Linha Extra'"
   ]
  },
  {
   "cell_type": "code",
   "execution_count": 28,
   "id": "00f2b326",
   "metadata": {},
   "outputs": [],
   "source": [
    "# Abre o arquivo para gravação e grava a linha 1\n",
    "arq = open('texto.txt', 'a')\n",
    "for x in lin1:\n",
    "        arq.write(x)\n",
    "arq.write('\\n')\n",
    "arq.close()        "
   ]
  },
  {
   "cell_type": "code",
   "execution_count": 29,
   "id": "21f3f631",
   "metadata": {},
   "outputs": [],
   "source": [
    "# Abre o arquivo para gravação e grava a linha 2\n",
    "arq = open('texto.txt', 'a')\n",
    "lin2 = 'Segunda linha do arquivo'\n",
    "arq.seek(0, 1)\n",
    "for x in lin2:\n",
    "        arq.write(x)\n",
    "arq.write('\\n')\n",
    "arq.close()"
   ]
  },
  {
   "cell_type": "code",
   "execution_count": 30,
   "id": "34be84d6",
   "metadata": {},
   "outputs": [],
   "source": [
    "# Abre o arquivo para 'APPEND' e grava a linha extra\n",
    "arq = open('texto.txt', 'a')\n",
    "linex = 'Linha extra'\n",
    "arq.seek(2)\n",
    "for x in linex:\n",
    "        arq.write(x)\n",
    "arq.write('\\n')\n",
    "arq.close()"
   ]
  }
 ],
 "metadata": {
  "kernelspec": {
   "display_name": "Python 3 (ipykernel)",
   "language": "python",
   "name": "python3"
  },
  "language_info": {
   "codemirror_mode": {
    "name": "ipython",
    "version": 3
   },
   "file_extension": ".py",
   "mimetype": "text/x-python",
   "name": "python",
   "nbconvert_exporter": "python",
   "pygments_lexer": "ipython3",
   "version": "3.9.7"
  }
 },
 "nbformat": 4,
 "nbformat_minor": 5
}
